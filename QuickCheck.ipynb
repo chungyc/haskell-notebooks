{
 "cells": [
  {
   "cell_type": "markdown",
   "id": "899cb68d",
   "metadata": {},
   "source": [
    "# QuickCheck\n",
    "\n",
    "[QuickCheck] is a property-based testing framework for Haskell.\n",
    "\n",
    "[QuickCheck]: https://hackage.haskell.org/package/QuickCheck\n",
    "\n",
    "> Authored by [Yoo Chung](mailto:chungyc@google.com)<br/>\n",
    "> Written on 2023-11-30\n",
    ">\n",
    "> Copyright 2023 Google LLC.<br/>\n",
    "> SPDX-License-Identifier: Apache-2.0"
   ]
  },
  {
   "cell_type": "markdown",
   "id": "48b3a168",
   "metadata": {},
   "source": [
    "## Property-based testing\n",
    "\n",
    "Instead of testing individual test cases, specify properties and check whether random inputs satisfy the properties."
   ]
  },
  {
   "cell_type": "markdown",
   "id": "82cb9452",
   "metadata": {},
   "source": [
    "## The Example\n",
    "\n",
    "Every introduction to QuickCheck seems to start out with an example with a reverse function.\n",
    "Let's define an `intReverse` function, just so we don't have to qualify with a concrete type everywhere."
   ]
  },
  {
   "cell_type": "code",
   "execution_count": null,
   "id": "0dd90b98",
   "metadata": {},
   "outputs": [],
   "source": [
    "intReverse :: [Int] -> [Int]\n",
    "intReverse = reverse"
   ]
  },
  {
   "cell_type": "markdown",
   "id": "2438daa5",
   "metadata": {},
   "source": [
    "Obviously, we need to import the QuickCheck module."
   ]
  },
  {
   "cell_type": "code",
   "execution_count": null,
   "id": "d93e4439",
   "metadata": {},
   "outputs": [],
   "source": [
    "import Test.QuickCheck"
   ]
  },
  {
   "cell_type": "markdown",
   "id": "11a29806",
   "metadata": {},
   "source": [
    "We can then define a property for `intReverse` and have QuickCheck test it.\n",
    "Every introduction to QuickCheck also seems to give as an example that reversing a list twice will give back the original list."
   ]
  },
  {
   "cell_type": "code",
   "execution_count": null,
   "id": "2c9a6f52",
   "metadata": {},
   "outputs": [],
   "source": [
    "prop_reverse xs = intReverse (intReverse xs) == xs\n",
    "\n",
    "quickCheck prop_reverse"
   ]
  },
  {
   "cell_type": "markdown",
   "id": "a357536b",
   "metadata": {},
   "source": [
    "QuickCheck generates random values and tests that the property holds for these values.  You can see what values it tests the property with using [`verbose`](https://hackage.haskell.org/package/QuickCheck-2.14.3/docs/Test-QuickCheck.html#v:verbose)."
   ]
  },
  {
   "cell_type": "code",
   "execution_count": null,
   "id": "2ac72ad6",
   "metadata": {},
   "outputs": [],
   "source": [
    "quickCheck $ verbose prop_reverse"
   ]
  },
  {
   "cell_type": "markdown",
   "id": "f2626779",
   "metadata": {},
   "source": [
    "## A strategy for property-based testing\n",
    "\n",
    "When I first encountered The Example in introductions to QuickCheck, I was awestruck at how it could test general properties instead of just tests with specific values.\n",
    "\n",
    "After some time, I was less impressed with The Example, because while it demonstrates how QuickCheck can check general properties, it's rather lacking in regards to testing whether a function behaves _correctly_.  It will happily pass the test for a not quite correct implementation of a reverse function.  In fact, it will pass for the `id` function."
   ]
  },
  {
   "cell_type": "code",
   "execution_count": null,
   "id": "cdc7e6d2",
   "metadata": {},
   "outputs": [],
   "source": [
    "almostReverse xs | sum xs > 15 && sum xs < 19 = xs\n",
    "                 | otherwise = intReverse xs\n",
    "\n",
    "quickCheck (\\xs -> almostReverse (almostReverse xs) === xs)\n",
    "\n",
    "quickCheck (\\xs -> id (id xs) === xs)"
   ]
  },
  {
   "cell_type": "markdown",
   "id": "2684a1f6",
   "metadata": {},
   "source": [
    "An early strategy I sometimes used was to compare the function being tested against a naive and \"obviously\" correct implementation.  For example:"
   ]
  },
  {
   "cell_type": "code",
   "execution_count": null,
   "id": "2625cae5",
   "metadata": {},
   "outputs": [],
   "source": [
    "naiveReverse :: [Int] -> [Int]\n",
    "naiveReverse [] = []\n",
    "naiveReverse (x:xs) = naiveReverse xs ++ [x]\n",
    "\n",
    "quickCheck (\\xs -> intReverse xs === naiveReverse xs)"
   ]
  },
  {
   "cell_type": "markdown",
   "id": "6f693191",
   "metadata": {},
   "source": [
    "This never sat with me very well.  At some point, I began testing using induction.  In other words, I would test properties for the base case, and then check the property holds for a non-base case assuming it holds for a smaller case.  For example:"
   ]
  },
  {
   "cell_type": "code",
   "execution_count": null,
   "id": "24f0a74a",
   "metadata": {},
   "outputs": [],
   "source": [
    "prop_reverse' = intReverse [] === []\n",
    "prop_reverse'' x xs = intReverse (x:xs) === intReverse xs ++ [x]\n",
    "\n",
    "quickCheck prop_reverse'\n",
    "quickCheck prop_reverse''"
   ]
  },
  {
   "cell_type": "markdown",
   "id": "e684a087",
   "metadata": {},
   "source": [
    "This style of property-based testing will make it much more likely to catch bugs than The Example.  For example:"
   ]
  },
  {
   "cell_type": "code",
   "execution_count": null,
   "id": "d0787e92",
   "metadata": {
    "scrolled": true
   },
   "outputs": [],
   "source": [
    "prop_badReverse = almostReverse [] === []\n",
    "prop_badReverse' x xs = almostReverse (x:xs) === almostReverse xs ++ [x]\n",
    "\n",
    "quickCheck prop_badReverse\n",
    "quickCheck prop_badReverse'"
   ]
  },
  {
   "cell_type": "markdown",
   "id": "0efdde94",
   "metadata": {},
   "source": [
    "### Exercise\n",
    "\n",
    "Let's say you have a brand new and shiny implementation of a list concatenation function.\n",
    "What properties would you test for make sure it is correct?"
   ]
  },
  {
   "cell_type": "code",
   "execution_count": null,
   "id": "a5b193db",
   "metadata": {},
   "outputs": [],
   "source": [
    "intConcat :: [Int] -> [Int] -> [Int]\n",
    "intConcat = (++)\n",
    "\n",
    "-- Implement your properties here and test \"intConcat\" using \"quickCheck\".\n"
   ]
  },
  {
   "cell_type": "markdown",
   "id": "a6fefa0a",
   "metadata": {},
   "source": [
    "## Testing function inputs"
   ]
  },
  {
   "cell_type": "markdown",
   "id": "d9c3df4e",
   "metadata": {},
   "source": [
    "Being a functional programming language, we should be able to test properties of functions which have other functions as arguments.  Unsurprisingly, QuickCheck has the ability to generate random functions as input to a function being tested.\n",
    "\n",
    "The [`Fun`](https://hackage.haskell.org/package/QuickCheck-2.14.3/docs/Test-QuickCheck.html#t:Fun) type with the constructor `Fun` can be used to generate functions (to be clear, one could generate functions in other ways, too).  The `Fun` constructor has auxillary data and a function itself, so one can pattern match to get the randomly generated function.  Alternatively, [`applyFun`](https://hackage.haskell.org/package/QuickCheck-2.14.3/docs/Test-QuickCheck.html#v:applyFun) can be used to extract the function from a value of type `Fun`."
   ]
  },
  {
   "cell_type": "code",
   "execution_count": null,
   "id": "acba7d36",
   "metadata": {},
   "outputs": [],
   "source": [
    "prop_map :: Fun Integer String -> Property\n",
    "prop_map fun = map (applyFun fun) [] === []\n",
    "\n",
    "prop_map' :: Fun Integer String -> Integer -> [Integer] -> Property\n",
    "prop_map' (Fun _ f) x xs = map f (x : xs) === (f x : map f xs)\n",
    "\n",
    "quickCheck prop_map\n",
    "quickCheck prop_map'"
   ]
  },
  {
   "cell_type": "markdown",
   "id": "ab4ca139",
   "metadata": {},
   "source": [
    "The function generated is in a showable form, which is why the function is not generated directly but instead generated as part of a `Fun` value, which also has the information to show the function."
   ]
  },
  {
   "cell_type": "code",
   "execution_count": null,
   "id": "4936c13b",
   "metadata": {},
   "outputs": [],
   "source": [
    "prop_notMap :: Fun Integer String -> [Integer] -> Property\n",
    "prop_notMap (Fun _ f) xs = map f xs === [\"1\",\"2\",\"3\"]\n",
    "\n",
    "quickCheck prop_notMap"
   ]
  },
  {
   "cell_type": "markdown",
   "id": "7a6cb6cc",
   "metadata": {},
   "source": [
    "### Exercise\n",
    "\n",
    "Test that the function \"filter\" only returns elements in a list which return true when fed into a given function."
   ]
  },
  {
   "cell_type": "code",
   "execution_count": null,
   "id": "031da992",
   "metadata": {},
   "outputs": [],
   "source": [
    "-- Implement your properties here and test \"filter\" using \"quickCheck\".\n"
   ]
  },
  {
   "cell_type": "markdown",
   "id": "a608082c",
   "metadata": {},
   "source": [
    "## Counterexamples"
   ]
  },
  {
   "cell_type": "markdown",
   "id": "c6a3d458",
   "metadata": {},
   "source": [
    "Instead of generating random input directly, you may be generating multiple values which you combine into the actual input.  In this case, it may be harder to see for what value a property is failing, because by default QuickCheck only shows the values it generates directly.  [`counterexample`](https://hackage.haskell.org/package/QuickCheck-2.14.3/docs/Test-QuickCheck.html#v:counterexample) can be used to show the actual value being tested.  It could also be used to make it easier to see which values are what when there are many generated values for a property."
   ]
  },
  {
   "cell_type": "code",
   "execution_count": null,
   "id": "3e2d1dc6",
   "metadata": {
    "scrolled": true
   },
   "outputs": [],
   "source": [
    "prop_badReverse'' x xs =\n",
    "    counterexample (\"list is \" ++ show (x:xs)) $\n",
    "    almostReverse (x:xs) === almostReverse xs ++ [x]\n",
    "\n",
    "quickCheck prop_badReverse''"
   ]
  },
  {
   "cell_type": "markdown",
   "id": "bf8aeeb6",
   "metadata": {},
   "source": [
    "## Generating inputs"
   ]
  },
  {
   "cell_type": "markdown",
   "id": "eeefdebf",
   "metadata": {},
   "source": [
    "How does QuickCheck actually generate its random inputs?"
   ]
  },
  {
   "cell_type": "markdown",
   "id": "cd24ed21",
   "metadata": {},
   "source": [
    "### Generators"
   ]
  },
  {
   "cell_type": "markdown",
   "id": "f97cd2c8",
   "metadata": {},
   "source": [
    "QuickCheck uses the [`Gen`](https://hackage.haskell.org/package/QuickCheck-2.14.3/docs/Test-QuickCheck.html#t:Gen) monad to generate random inputs.  In the following, `choose (1,50)` is a value of `Gen`."
   ]
  },
  {
   "cell_type": "code",
   "execution_count": null,
   "id": "4899859d",
   "metadata": {},
   "outputs": [],
   "source": [
    "quickCheck $ forAll (choose (1,50)) $ \\x -> x > 0 && x < 51"
   ]
  },
  {
   "cell_type": "markdown",
   "id": "c51e54c8",
   "metadata": {},
   "source": [
    "You could also define a `Gen` value with its own name so that you could use it over and over again."
   ]
  },
  {
   "cell_type": "code",
   "execution_count": null,
   "id": "1f991b92",
   "metadata": {},
   "outputs": [],
   "source": [
    "isPrime :: Int -> Bool\n",
    "isPrime n = not $ any (\\m -> n `mod` m == 0) [2..n-1]\n",
    "\n",
    "gen :: Gen Int\n",
    "gen = do\n",
    "  size <- getSize\n",
    "  x <- choose (2, size + 2)\n",
    "  y <- choose (2, size + 2)\n",
    "  return $ x*y\n",
    "\n",
    "quickCheck $ forAll gen $ \\x -> not (isPrime x)"
   ]
  },
  {
   "cell_type": "markdown",
   "id": "ad7d4f85",
   "metadata": {},
   "source": [
    "### Type-level modifiers"
   ]
  },
  {
   "cell_type": "markdown",
   "id": "d1527d5d",
   "metadata": {},
   "source": [
    "[Type-level modifiers](https://hackage.haskell.org/package/QuickCheck-2.14.3/docs/Test-QuickCheck.html#g:16) are a convenient way to generate values with certain properties."
   ]
  },
  {
   "cell_type": "code",
   "execution_count": null,
   "id": "0858ef16",
   "metadata": {},
   "outputs": [],
   "source": [
    "quickCheck $ \\(Positive x) -> x - 10 < length [1,2,3]"
   ]
  },
  {
   "cell_type": "code",
   "execution_count": null,
   "id": "871c68c7",
   "metadata": {},
   "outputs": [],
   "source": [
    "import Data.List (sort)\n",
    "\n",
    "quickCheck $ \\(Ordered xs) -> sort xs === xs"
   ]
  },
  {
   "cell_type": "code",
   "execution_count": null,
   "id": "b52367e7",
   "metadata": {},
   "outputs": [],
   "source": [
    "quickCheck $ \\(NonEmpty xs) -> total (head xs)"
   ]
  },
  {
   "cell_type": "markdown",
   "id": "471f3267",
   "metadata": {},
   "source": [
    "### `Arbitrary` typeclass"
   ]
  },
  {
   "cell_type": "markdown",
   "id": "944495d1",
   "metadata": {},
   "source": [
    "We did not specify how lists or numbers are to be generated in many of the examples.  How does QuickCheck know how to do this?  It's because QuickCheck makes many basic types into instances of the `Arbitrary` typeclass.  The typeclass specifies both how to generate values for a type, and also how to [shrink values](#Shrinking) so that a failing test case can be shown with a simpler value than the one where the failure was initially detected.\n",
    "\n",
    "If you generate the same sort of values over and over again, it can be convenient to define your own type which is an instance of `Arbitrary`.  This is actually what type-level modifiers are."
   ]
  },
  {
   "cell_type": "code",
   "execution_count": null,
   "id": "6a5cfc6e",
   "metadata": {},
   "outputs": [],
   "source": [
    "newtype Composite = Composite Int deriving (Eq, Ord, Show)\n",
    "\n",
    "instance Arbitrary Composite where\n",
    "  arbitrary = do\n",
    "    size <- getSize\n",
    "    x <- choose (2, size + 2)\n",
    "    y <- choose (2, size + 2)\n",
    "    return $ Composite $ x*y\n",
    "\n",
    "  shrink (Composite n)\n",
    "    | n <= 2 = []\n",
    "    | [] <- smaller = []\n",
    "    | otherwise = [Composite $ last smaller]\n",
    "    where smaller = filter isPrime [2..n-1]\n",
    "    \n",
    "quickCheck $ \\(Composite n) -> not (isPrime n)\n",
    "\n",
    "quickCheck $ \\(Composite m) -> \\(Composite n) -> gcd m n /= 1"
   ]
  },
  {
   "cell_type": "markdown",
   "id": "aa3f2980",
   "metadata": {},
   "source": [
    "## Shrinking"
   ]
  },
  {
   "cell_type": "markdown",
   "id": "21e1df83",
   "metadata": {},
   "source": [
    "QuickCheck can shrink random inputs on which a property fails, which can make it easier to debug with simpler input."
   ]
  },
  {
   "cell_type": "code",
   "execution_count": null,
   "id": "c657b73d",
   "metadata": {},
   "outputs": [],
   "source": [
    "quickCheck prop_badReverse''"
   ]
  },
  {
   "cell_type": "code",
   "execution_count": null,
   "id": "20ace16c",
   "metadata": {},
   "outputs": [],
   "source": [
    "quickCheck $ noShrinking prop_badReverse''"
   ]
  },
  {
   "cell_type": "markdown",
   "id": "15a6f11f",
   "metadata": {},
   "source": [
    "## Haddock"
   ]
  },
  {
   "cell_type": "markdown",
   "id": "f9a1aa80",
   "metadata": {},
   "source": [
    "[Haddock](https://haskell-haddock.readthedocs.io/) can document properties with the [`prop>`](https://haskell-haddock.readthedocs.io/en/latest/markup.html#properties) markup.  [doctest](https://hackage.haskell.org/package/doctest) can extract these properties to test that the properties are satisfied using QuickCheck."
   ]
  },
  {
   "cell_type": "code",
   "execution_count": null,
   "id": "65234313",
   "metadata": {},
   "outputs": [],
   "source": [
    "-- | Reverses a list of strings.\n",
    "--\n",
    "-- prop> (strReverse . strReverse) x == x\n",
    "--\n",
    "strReverse :: [String] -> [String]\n",
    "strReverse = reverse"
   ]
  },
  {
   "cell_type": "markdown",
   "id": "0ecee7af",
   "metadata": {},
   "source": [
    "## Fuzzing\n",
    "\n",
    "Generate random inputs for a function and check whether it behaves correctly ...  Isn't there another concept which sounds similar?\n",
    "\n",
    "That's right, it's fuzzing!  For the most basic sort of fuzzing, i.e., checking whether a program crashes on random inputs, this would simply be testing the property that a function is total."
   ]
  },
  {
   "cell_type": "code",
   "execution_count": null,
   "id": "d5bb999c",
   "metadata": {},
   "outputs": [],
   "source": [
    "quickCheck $ \\xs -> total (head xs)"
   ]
  },
  {
   "cell_type": "markdown",
   "id": "f49360e1",
   "metadata": {},
   "source": [
    "At least one security health scanning system considers property-based testing in Haskell to be fuzzing.  For example, see [OpenSSF Scorecard](https://securityscorecards.dev/)."
   ]
  },
  {
   "cell_type": "markdown",
   "id": "ceb899a4",
   "metadata": {},
   "source": [
    "## Other property-testing libraries\n",
    "\n",
    "Focus on easier input generation:\n",
    "\n",
    "* [Hedgehog](https://hackage.haskell.org/package/hedgehog)\n",
    "* [Validity](https://hackage.haskell.org/package/validity)\n",
    "\n",
    "Focus on exhaustive testing of small inputs instead of random inputs:\n",
    "\n",
    "* [SmallCheck](https://hackage.haskell.org/package/smallcheck)"
   ]
  },
  {
   "cell_type": "markdown",
   "id": "2410579b",
   "metadata": {},
   "source": [
    "## Test frameworks\n",
    "\n",
    "More like meta-frameworks, these make it easier to have tests from multiple frameworks such as [HUnit](https://hackage.haskell.org/package/HUnit) or QuickCheck.\n",
    "\n",
    "*   [Hspec](https://hspec.github.io/)\n",
    "*   [Tasty](https://hackage.haskell.org/package/tasty)"
   ]
  },
  {
   "cell_type": "markdown",
   "id": "10459068",
   "metadata": {},
   "source": [
    "## License\n",
    "\n",
    "Copyright 2023 Google LLC\n",
    "\n",
    "Licensed under the Apache License, Version 2.0 (the \"License\");\n",
    "you may not use this file except in compliance with the License.\n",
    "You may obtain a copy of the License at\n",
    "\n",
    "    https://www.apache.org/licenses/LICENSE-2.0\n",
    "\n",
    "Unless required by applicable law or agreed to in writing, software\n",
    "distributed under the License is distributed on an \"AS IS\" BASIS,\n",
    "WITHOUT WARRANTIES OR CONDITIONS OF ANY KIND, either express or implied.\n",
    "See the License for the specific language governing permissions and\n",
    "limitations under the License."
   ]
  }
 ],
 "metadata": {
  "kernelspec": {
   "display_name": "Haskell",
   "language": "haskell",
   "name": "haskell"
  },
  "language_info": {
   "codemirror_mode": "ihaskell",
   "file_extension": ".hs",
   "mimetype": "text/x-haskell",
   "name": "haskell",
   "pygments_lexer": "Haskell",
   "version": "9.4.7"
  }
 },
 "nbformat": 4,
 "nbformat_minor": 5
}
