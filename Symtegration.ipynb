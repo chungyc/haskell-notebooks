{
 "cells": [
  {
   "cell_type": "markdown",
   "id": "561bdecb",
   "metadata": {},
   "source": [
    "# Symbolic integration with Symtegration\n",
    "\n",
    "[Symtegration] is a Haskell library which can symbolically integrate mathematical expressions.  This notebook shows some examples as to how the library can be used with [IHaskell].\n",
    "\n",
    "[Symtegration]: https://symtegration.dev/\n",
    "[IHaskell]: https://github.com/IHaskell/IHaskell\n",
    "\n",
    "> Authored by [Yoo Chung](mailto:chungyc@google.com)<br/>\n",
    "> Written on 2025-01-02, updated 2025-01-14\n",
    ">\n",
    "> Copyright 2025 Google LLC.<br/>\n",
    "> SPDX-License-Identifier: Apache-2.0"
   ]
  },
  {
   "cell_type": "markdown",
   "id": "cbf1bd2f",
   "metadata": {},
   "source": [
    "## Preparation\n",
    "\n",
    "This sections imports the Symtegration module and sets up IHaskell to make its use more seamless."
   ]
  },
  {
   "cell_type": "code",
   "execution_count": null,
   "id": "c3cab764",
   "metadata": {},
   "outputs": [],
   "source": [
    "-- Makes it simpler to use strings as symbols.\n",
    ":extension OverloadedStrings\n",
    "\n",
    "import Symtegration\n",
    "import Data.Text (Text, unpack)\n",
    "import IHaskell.Display\n",
    "\n",
    "-- Typesets Symtegration Expression values as mathematical expressions.\n",
    "instance IHaskellDisplay Expression where\n",
    "  display e = return $ Display [latex $ \"\\\\[\" <> unpack (toLaTeX e) <> \"\\\\]\"]\n",
    "\n",
    "-- Directly output expressions even if they are Maybe values.\n",
    "instance IHaskellDisplay (Maybe Expression) where\n",
    "  display Nothing = return $ Display [plain \"Nothing\"]\n",
    "  display (Just e) = display e"
   ]
  },
  {
   "cell_type": "markdown",
   "id": "2cc2c85a",
   "metadata": {},
   "source": [
    "## Integration"
   ]
  },
  {
   "cell_type": "markdown",
   "id": "24a686e8",
   "metadata": {},
   "source": [
    "We can derive $\\int 1 \\, dx$:"
   ]
  },
  {
   "cell_type": "code",
   "execution_count": null,
   "id": "4c751d9b",
   "metadata": {},
   "outputs": [
    {
     "data": {
      "text/latex": [
       "\\[x\\]"
      ]
     },
     "metadata": {},
     "output_type": "display_data"
    }
   ],
   "source": [
    "integrate \"x\" 1"
   ]
  },
  {
   "cell_type": "markdown",
   "id": "f49314a9",
   "metadata": {},
   "source": [
    "Likewise, $\\int \\sin x \\, dx$:"
   ]
  },
  {
   "cell_type": "code",
   "execution_count": null,
   "id": "16594c98",
   "metadata": {},
   "outputs": [
    {
     "data": {
      "text/latex": [
       "\\[-\\cos x\\]"
      ]
     },
     "metadata": {},
     "output_type": "display_data"
    }
   ],
   "source": [
    "integrate \"x\" $ sin \"x\""
   ]
  },
  {
   "cell_type": "markdown",
   "id": "b91081b1",
   "metadata": {},
   "source": [
    "We can do the same for $\\int 1 + x \\, dx$:"
   ]
  },
  {
   "cell_type": "code",
   "execution_count": null,
   "id": "b9d16ac6",
   "metadata": {},
   "outputs": [
    {
     "data": {
      "text/latex": [
       "\\[x + \\frac{1}{2} x^{2}\\]"
      ]
     },
     "metadata": {},
     "output_type": "display_data"
    }
   ],
   "source": [
    "integrate \"x\" $ 1 + \"x\""
   ]
  },
  {
   "cell_type": "markdown",
   "id": "b6d593a3",
   "metadata": {},
   "source": [
    "We shall now try to integrate something more complicated:"
   ]
  },
  {
   "cell_type": "code",
   "execution_count": null,
   "id": "716f943c",
   "metadata": {},
   "outputs": [
    {
     "data": {
      "text/latex": [
       "\\[\\frac{x^{7} - 24 x^{4} - 4 x^{2} + 8 x - 8}{x^{8} + 6 x^{6} + 12 x^{4} + 8 x^{2}}\\]"
      ]
     },
     "metadata": {},
     "output_type": "display_data"
    }
   ],
   "source": [
    "let p = \"x\" ** 7 - 24 * \"x\" ** 4 - 4 * \"x\" ** 2 + 8 * \"x\" - 8 :: Expression\n",
    "let q = \"x\" ** 8 + 6 * \"x\" ** 6 + 12 * \"x\" ** 4 + 8 * \"x\" ** 2 :: Expression\n",
    "p / q"
   ]
  },
  {
   "cell_type": "markdown",
   "id": "f4d4ec5a",
   "metadata": {},
   "source": [
    "The integral for the above is as follows:"
   ]
  },
  {
   "cell_type": "code",
   "execution_count": null,
   "id": "df501cc8",
   "metadata": {},
   "outputs": [
    {
     "data": {
      "text/latex": [
       "\\[\\log x + \\frac{4 + 8 x^{2}}{4 x + 4 x^{3} + x^{5}} + \\frac{3}{2 + x^{2}}\\]"
      ]
     },
     "metadata": {},
     "output_type": "display_data"
    }
   ],
   "source": [
    "integrate \"x\" $ p / q"
   ]
  },
  {
   "cell_type": "markdown",
   "id": "2dad237f",
   "metadata": {},
   "source": [
    "Expressions with symbols other than the variable being integrated can be integrated:"
   ]
  },
  {
   "cell_type": "code",
   "execution_count": null,
   "id": "c2f95330",
   "metadata": {},
   "outputs": [
    {
     "data": {
      "text/latex": [
       "\\[\\frac{1}{b} e^{b x} + \\frac{1}{a} \\left(-a x + a x \\log \\left(a x\\right)\\right)\\]"
      ]
     },
     "metadata": {},
     "output_type": "display_data"
    }
   ],
   "source": [
    "integrate \"x\" $ log (\"a\" * \"x\") + exp (\"b\" * \"x\")"
   ]
  },
  {
   "cell_type": "markdown",
   "id": "d9aecf04",
   "metadata": {},
   "source": [
    "Symbols are included in the output as is, so symbol text with LaTeX will be formatted in the equivalent mathematical form.  Just don't forget that backslashes need to be escaped in Haskell strings."
   ]
  },
  {
   "cell_type": "code",
   "execution_count": null,
   "id": "e6a84fcd",
   "metadata": {},
   "outputs": [
    {
     "data": {
      "text/latex": [
       "\\[-\\mu_0 \\nu_0 \\cos x\\]"
      ]
     },
     "metadata": {},
     "output_type": "display_data"
    }
   ],
   "source": [
    "integrate \"x\" $ \"\\\\mu_0\" * \"\\\\nu_0\" * sin \"x\""
   ]
  },
  {
   "cell_type": "markdown",
   "id": "a749dbbb",
   "metadata": {},
   "source": [
    "## Evaluation\n",
    "\n",
    "We can also turn the integrals we derive into functions with which we can numerically compute values."
   ]
  },
  {
   "cell_type": "code",
   "execution_count": null,
   "id": "40a7c395",
   "metadata": {},
   "outputs": [],
   "source": [
    "import Data.Maybe (fromJust)\n",
    "\n",
    "f :: Double -> Double\n",
    "f = toFunction (fromJust $ integrate \"x\" $ p / q) (\\\"x\" -> id)"
   ]
  },
  {
   "cell_type": "code",
   "execution_count": null,
   "id": "2d33c8a4",
   "metadata": {},
   "outputs": [
    {
     "data": {
      "text/plain": [
       "1.6085877368933479"
      ]
     },
     "metadata": {},
     "output_type": "display_data"
    }
   ],
   "source": [
    "f 2.4"
   ]
  },
  {
   "cell_type": "markdown",
   "id": "f1375aa5",
   "metadata": {},
   "source": [
    "We compute the definite integral $\\int_{10}^{30} \\frac{p}{q} \\, dx$ in the obvious way:"
   ]
  },
  {
   "cell_type": "code",
   "execution_count": null,
   "id": "ce2dd67c",
   "metadata": {},
   "outputs": [
    {
     "data": {
      "text/plain": [
       "1.0650938169917685"
      ]
     },
     "metadata": {},
     "output_type": "display_data"
    }
   ],
   "source": [
    "f 30 - f 10"
   ]
  },
  {
   "cell_type": "markdown",
   "id": "4c566ba7",
   "metadata": {},
   "source": [
    "## License\n",
    "\n",
    "Copyright 2025 Google LLC\n",
    "\n",
    "Licensed under the Apache License, Version 2.0 (the \"License\"); you may not use this file except in compliance with the License. You may obtain a copy of the License at\n",
    "\n",
    "    https://www.apache.org/licenses/LICENSE-2.0\n",
    "\n",
    "Unless required by applicable law or agreed to in writing, software distributed under the License is distributed on an \"AS IS\" BASIS, WITHOUT WARRANTIES OR CONDITIONS OF ANY KIND, either express or implied. See the License for the specific language governing permissions and limitations under the License."
   ]
  }
 ],
 "metadata": {
  "kernelspec": {
   "display_name": "Haskell",
   "language": "haskell",
   "name": "haskell"
  },
  "language_info": {
   "codemirror_mode": "ihaskell",
   "file_extension": ".hs",
   "mimetype": "text/x-haskell",
   "name": "haskell",
   "pygments_lexer": "Haskell",
   "version": "9.6.4"
  }
 },
 "nbformat": 4,
 "nbformat_minor": 5
}
